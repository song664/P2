{
 "cells": [
  {
   "cell_type": "code",
   "execution_count": 258,
   "id": "3d7fa7c5-3fc8-4d4c-8088-9728d4796dce",
   "metadata": {
    "tags": []
   },
   "outputs": [
    {
     "name": "stdout",
     "output_type": "stream",
     "text": [
      "  Date received                  Product                   Sub-product  \\\n",
      "0    2016-10-26          Money transfers  International money transfer   \n",
      "1    2015-03-27  Bank account or service    Other bank product/service   \n",
      "2    2015-04-20  Bank account or service    Other bank product/service   \n",
      "3    2013-04-29                 Mortgage   Conventional fixed mortgage   \n",
      "4    2013-05-29                 Mortgage                Other mortgage   \n",
      "\n",
      "                                      Issue Sub-issue  \\\n",
      "0                  Other transaction issues       NaN   \n",
      "1   Account opening, closing, or management       NaN   \n",
      "2  Making/receiving payments, sending money       NaN   \n",
      "3  Application, originator, mortgage broker       NaN   \n",
      "4  Loan modification,collection,foreclosure       NaN   \n",
      "\n",
      "                        Consumer complaint narrative  \\\n",
      "0  To whom it concerns, I would like to file a fo...   \n",
      "1  My name is XXXX XXXX XXXX and huband name is X...   \n",
      "2  XXXX 2015 : I called to make a payment on XXXX...   \n",
      "3                                                NaN   \n",
      "4                                                NaN   \n",
      "\n",
      "                             Company public response  \\\n",
      "0  Company has responded to the consumer and the ...   \n",
      "1   Company chooses not to provide a public response   \n",
      "2   Company chooses not to provide a public response   \n",
      "3                                                NaN   \n",
      "4                                                NaN   \n",
      "\n",
      "                                 Company State ZIP code            Tags  \\\n",
      "0                         CITIBANK, N.A.   NaN      NaN             NaN   \n",
      "1                         CITIBANK, N.A.    PA    151XX  Older American   \n",
      "2                           U.S. BANCORP    PA    152XX             NaN   \n",
      "3                   JPMORGAN CHASE & CO.    VA    22406   Servicemember   \n",
      "4  BANK OF AMERICA, NATIONAL ASSOCIATION    GA    30044             NaN   \n",
      "\n",
      "  Consumer consent provided? Submitted via Date sent to company  \\\n",
      "0           Consent provided           Web           2016-10-29   \n",
      "1           Consent provided           Web           2015-03-27   \n",
      "2           Consent provided           Web           2015-04-22   \n",
      "3                        NaN         Phone           2013-04-30   \n",
      "4                        NaN      Referral           2013-05-31   \n",
      "\n",
      "  Company response to consumer Timely response? Consumer disputed?  \\\n",
      "0      Closed with explanation              Yes                 No   \n",
      "1      Closed with explanation              Yes                 No   \n",
      "2  Closed with monetary relief              Yes                 No   \n",
      "3      Closed with explanation              Yes                Yes   \n",
      "4      Closed with explanation              Yes                 No   \n",
      "\n",
      "   Complaint ID  \n",
      "0       2180490  \n",
      "1       1305453  \n",
      "2       1337613  \n",
      "3        393900  \n",
      "4        418647  \n",
      "       Complaint ID\n",
      "count  2.072600e+05\n",
      "mean   1.028619e+06\n",
      "std    7.533348e+05\n",
      "min    2.200000e+01\n",
      "25%    3.456218e+05\n",
      "50%    9.209720e+05\n",
      "75%    1.710704e+06\n",
      "max    2.412707e+06\n",
      "Date received                        0\n",
      "Product                              0\n",
      "Sub-product                      43015\n",
      "Issue                                0\n",
      "Sub-issue                       196913\n",
      "Consumer complaint narrative    177869\n",
      "Company public response         148802\n",
      "Company                              0\n",
      "State                             2194\n",
      "ZIP code                          9286\n",
      "Tags                            178995\n",
      "Consumer consent provided?      155947\n",
      "Submitted via                        0\n",
      "Date sent to company                 0\n",
      "Company response to consumer         0\n",
      "Timely response?                     0\n",
      "Consumer disputed?                   0\n",
      "Complaint ID                         0\n",
      "dtype: int64\n",
      "Consumer disputed?\n",
      "No     162357\n",
      "Yes     44903\n",
      "Name: count, dtype: int64\n"
     ]
    }
   ],
   "source": [
    "import pandas as pd\n",
    "\n",
    "\n",
    "complaints = pd.read_csv('shared/complaints_25Nov21.csv')\n",
    "\n",
    "\n",
    "print(complaints.head())\n",
    "\n",
    "print(complaints.describe())\n",
    "\n",
    "\n",
    "print(complaints.isnull().sum())\n",
    "\n",
    "\n",
    "print(complaints['Consumer disputed?'].value_counts())\n",
    "\n",
    "\n",
    "\n"
   ]
  },
  {
   "cell_type": "code",
   "execution_count": 259,
   "id": "50738aa7-1f0b-456c-b9c1-cf5fbee77721",
   "metadata": {
    "tags": []
   },
   "outputs": [
    {
     "name": "stdout",
     "output_type": "stream",
     "text": [
      "Product\n",
      "Mortgage                   101680\n",
      "Bank account or service     44594\n",
      "Credit card                 42191\n",
      "Debt collection              7861\n",
      "Consumer Loan                5508\n",
      "Student loan                 2866\n",
      "Money transfers               869\n",
      "Credit reporting              741\n",
      "Prepaid card                  635\n",
      "Other financial service       232\n",
      "Payday loan                    83\n",
      "Name: count, dtype: int64\n",
      "Sub-product\n",
      "Other mortgage                            44418\n",
      "Checking account                          31880\n",
      "Conventional fixed mortgage               27105\n",
      "FHA mortgage                              11576\n",
      "Conventional adjustable mortgage (ARM)     9960\n",
      "Other bank product/service                 8525\n",
      "Home equity loan or line of credit         5852\n",
      "Credit card                                4059\n",
      "Vehicle loan                               3079\n",
      "Non-federal student loan                   2927\n",
      "Savings account                            2528\n",
      "VA mortgage                                1912\n",
      "Installment loan                           1363\n",
      "Other (i.e. phone, health club, etc.)      1314\n",
      "(CD) Certificate of deposit                1303\n",
      "Mortgage                                   1196\n",
      "I do not know                               808\n",
      "Personal line of credit                     710\n",
      "Reverse mortgage                            510\n",
      "International money transfer                454\n",
      "Domestic (US) money transfer                415\n",
      "Cashing a check without an account          358\n",
      "Second mortgage                             347\n",
      "General purpose card                        304\n",
      "Vehicle lease                               289\n",
      "Auto                                        256\n",
      "Gift or merchant card                       175\n",
      "Check cashing                                95\n",
      "Federal student loan servicing               72\n",
      "Other special purpose card                   57\n",
      "Government benefit payment card              40\n",
      "Title loan                                   40\n",
      "Traveler’s/Cashier’s checks                  39\n",
      "Payday loan                                  38\n",
      "Federal student loan                         37\n",
      "Foreign currency exchange                    32\n",
      "Refund anticipation check                    27\n",
      "Pawn loan                                    27\n",
      "Payroll card                                 26\n",
      "ID prepaid card                              24\n",
      "Medical                                      20\n",
      "Debt settlement                              19\n",
      "Money order                                  13\n",
      "Credit repair                                 7\n",
      "Mobile wallet                                 6\n",
      "Transit card                                  2\n",
      "Electronic Benefit Transfer / EBT card        1\n",
      "Name: count, dtype: int64\n",
      "Issue\n",
      "Loan modification,collection,foreclosure    58940\n",
      "Loan servicing, payments, escrow account    26608\n",
      "Account opening, closing, or management     19762\n",
      "Deposits and withdrawals                    12275\n",
      "Application, originator, mortgage broker     7609\n",
      "                                            ...  \n",
      "Unable to get credit report/credit score        7\n",
      "Disclosures                                     6\n",
      "Can't stop charges to bank account              3\n",
      "Lender damaged or destroyed property            1\n",
      "Lender repossessed or sold the vehicle          1\n",
      "Name: count, Length: 93, dtype: int64\n",
      "State\n",
      "CA    37505\n",
      "FL    20134\n",
      "NY    15616\n",
      "TX    12123\n",
      "NJ     9242\n",
      "      ...  \n",
      "MH       11\n",
      "AS        6\n",
      "AA        4\n",
      "MP        4\n",
      "PW        3\n",
      "Name: count, Length: 62, dtype: int64\n",
      "Tags\n",
      "Older American                   18554\n",
      "Servicemember                     7331\n",
      "Older American, Servicemember     2380\n",
      "Name: count, dtype: int64\n",
      "Submitted via\n",
      "Web            115010\n",
      "Referral        59558\n",
      "Phone           17530\n",
      "Postal mail     11506\n",
      "Fax              3539\n",
      "Email             117\n",
      "Name: count, dtype: int64\n",
      "Company response to consumer\n",
      "Closed with explanation            148930\n",
      "Closed with monetary relief         22918\n",
      "Closed with non-monetary relief     19005\n",
      "Closed without relief               11119\n",
      "Closed with relief                   2839\n",
      "Closed                               2274\n",
      "Untimely response                     175\n",
      "Name: count, dtype: int64\n",
      "Timely response?\n",
      "Yes    202603\n",
      "No       4657\n",
      "Name: count, dtype: int64\n",
      "Consumer disputed?\n",
      "No     162357\n",
      "Yes     44903\n",
      "Name: count, dtype: int64\n"
     ]
    }
   ],
   "source": [
    "complaints.describe()\n",
    "for col in ['Product', 'Sub-product', 'Issue', 'State', 'Tags', 'Submitted via', 'Company response to consumer', 'Timely response?', 'Consumer disputed?']:\n",
    "    print(complaints[col].value_counts())\n"
   ]
  },
  {
   "cell_type": "code",
   "execution_count": 260,
   "id": "4b635f54-a2e4-457a-aed7-0fe0aa862cc9",
   "metadata": {
    "tags": []
   },
   "outputs": [
    {
     "data": {
      "image/png": "[encoded data removed]",
      "text/plain": [
       "<Figure size 640x480 with 1 Axes>"
      ]
     },
     "metadata": {},
     "output_type": "display_data"
    },
    {
     "data": {
      "image/png": "[encoded data removed]",
      "text/plain": [
       "<Figure size 640x480 with 1 Axes>"
      ]
     },
     "metadata": {},
     "output_type": "display_data"
    }
   ],
   "source": [
    "#1\n",
    "import matplotlib.pyplot as plt\n",
    "import seaborn as sns\n",
    "\n",
    "sns.countplot(data=complaints, x='Product')\n",
    "plt.xticks(rotation=90)\n",
    "plt.show()\n",
    "\n",
    "sns.countplot(data=complaints, x='Consumer disputed?')\n",
    "plt.show()\n"
   ]
  },
  {
   "cell_type": "code",
   "execution_count": 261,
   "id": "244a8a9b-ebb9-45db-8de3-272d1e447e13",
   "metadata": {
    "tags": []
   },
   "outputs": [
    {
     "name": "stdout",
     "output_type": "stream",
     "text": [
      "0.21586413200810575\n"
     ]
    }
   ],
   "source": [
    "#2\n",
    "from sklearn import preprocessing\n",
    "from sklearn.model_selection import train_test_split\n",
    "\n",
    "X = complaints[['Product', 'Sub-product', 'Issue', 'State', 'Tags', 'Submitted via', 'Company response to consumer', 'Timely response?']]\n",
    "\n",
    "\n",
    "X = pd.get_dummies(X)\n",
    "\n",
    "\n",
    "le = preprocessing.LabelEncoder()\n",
    "y = le.fit_transform(complaints['Consumer disputed?'])  \n",
    "print(dispute_proportion)\n",
    "\n"
   ]
  },
  {
   "cell_type": "code",
   "execution_count": 262,
   "id": "53a4f5c6-8f57-43a1-98ff-88ed3fe4ecd4",
   "metadata": {
    "tags": []
   },
   "outputs": [],
   "source": [
    "#3\n",
    "X_train, X_test, y_train, y_test = train_test_split(X, y, test_size=0.2, random_state=123)\n",
    "\n"
   ]
  },
  {
   "cell_type": "code",
   "execution_count": 263,
   "id": "b633e341-4818-4483-b2e4-defe49c05d11",
   "metadata": {
    "tags": []
   },
   "outputs": [
    {
     "name": "stdout",
     "output_type": "stream",
     "text": [
      "Proportion of disputed complaints in the training dataset: 0.22\n",
      "The proportion of disputes is less than 30%, proceeding with undersampling.\n",
      "New proportion of disputed complaints after undersampling: 0.50\n"
     ]
    }
   ],
   "source": [
    "#4\n",
    "import numpy as np\n",
    "\n",
    "disputed_proportion = np.mean(y_train)\n",
    "print(f\"Proportion of disputed complaints in the training dataset: {disputed_proportion:.2f}\")\n",
    "\n",
    "if disputed_proportion < 0.30:\n",
    "    print(\"The proportion of disputes is less than 30%, proceeding with undersampling.\")\n",
    "    from imblearn.under_sampling import RandomUnderSampler\n",
    "\n",
    "    undersampler = RandomUnderSampler(random_state=123)\n",
    "\n",
    "    X_train, y_train = undersampler.fit_resample(X_train, y_train)\n",
    "\n",
    "    new_disputed_proportion = np.mean(y_train)\n",
    "    print(f\"New proportion of disputed complaints after undersampling: {new_disputed_proportion:.2f}\")\n",
    "else:\n",
    "    print(\"The proportion of disputes is 30% or more, no need for undersampling.\")\n",
    "\n"
   ]
  },
  {
   "cell_type": "code",
   "execution_count": 264,
   "id": "92514d5d-d994-4e15-a79a-63913997f9e5",
   "metadata": {
    "tags": []
   },
   "outputs": [
    {
     "data": {
      "text/html": [
       "<style>#sk-container-id-10 {color: black;}#sk-container-id-10 pre{padding: 0;}#sk-container-id-10 div.sk-toggleable {background-color: white;}#sk-container-id-10 label.sk-toggleable__label {cursor: pointer;display: block;width: 100%;margin-bottom: 0;padding: 0.3em;box-sizing: border-box;text-align: center;}#sk-container-id-10 label.sk-toggleable__label-arrow:before {content: \"▸\";float: left;margin-right: 0.25em;color: #696969;}#sk-container-id-10 label.sk-toggleable__label-arrow:hover:before {color: black;}#sk-container-id-10 div.sk-estimator:hover label.sk-toggleable__label-arrow:before {color: black;}#sk-container-id-10 div.sk-toggleable__content {max-height: 0;max-width: 0;overflow: hidden;text-align: left;background-color: #f0f8ff;}#sk-container-id-10 div.sk-toggleable__content pre {margin: 0.2em;color: black;border-radius: 0.25em;background-color: #f0f8ff;}#sk-container-id-10 input.sk-toggleable__control:checked~div.sk-toggleable__content {max-height: 200px;max-width: 100%;overflow: auto;}#sk-container-id-10 input.sk-toggleable__control:checked~label.sk-toggleable__label-arrow:before {content: \"▾\";}#sk-container-id-10 div.sk-estimator input.sk-toggleable__control:checked~label.sk-toggleable__label {background-color: #d4ebff;}#sk-container-id-10 div.sk-label input.sk-toggleable__control:checked~label.sk-toggleable__label {background-color: #d4ebff;}#sk-container-id-10 input.sk-hidden--visually {border: 0;clip: rect(1px 1px 1px 1px);clip: rect(1px, 1px, 1px, 1px);height: 1px;margin: -1px;overflow: hidden;padding: 0;position: absolute;width: 1px;}#sk-container-id-10 div.sk-estimator {font-family: monospace;background-color: #f0f8ff;border: 1px dotted black;border-radius: 0.25em;box-sizing: border-box;margin-bottom: 0.5em;}#sk-container-id-10 div.sk-estimator:hover {background-color: #d4ebff;}#sk-container-id-10 div.sk-parallel-item::after {content: \"\";width: 100%;border-bottom: 1px solid gray;flex-grow: 1;}#sk-container-id-10 div.sk-label:hover label.sk-toggleable__label {background-color: #d4ebff;}#sk-container-id-10 div.sk-serial::before {content: \"\";position: absolute;border-left: 1px solid gray;box-sizing: border-box;top: 0;bottom: 0;left: 50%;z-index: 0;}#sk-container-id-10 div.sk-serial {display: flex;flex-direction: column;align-items: center;background-color: white;padding-right: 0.2em;padding-left: 0.2em;position: relative;}#sk-container-id-10 div.sk-item {position: relative;z-index: 1;}#sk-container-id-10 div.sk-parallel {display: flex;align-items: stretch;justify-content: center;background-color: white;position: relative;}#sk-container-id-10 div.sk-item::before, #sk-container-id-10 div.sk-parallel-item::before {content: \"\";position: absolute;border-left: 1px solid gray;box-sizing: border-box;top: 0;bottom: 0;left: 50%;z-index: -1;}#sk-container-id-10 div.sk-parallel-item {display: flex;flex-direction: column;z-index: 1;position: relative;background-color: white;}#sk-container-id-10 div.sk-parallel-item:first-child::after {align-self: flex-end;width: 50%;}#sk-container-id-10 div.sk-parallel-item:last-child::after {align-self: flex-start;width: 50%;}#sk-container-id-10 div.sk-parallel-item:only-child::after {width: 0;}#sk-container-id-10 div.sk-dashed-wrapped {border: 1px dashed gray;margin: 0 0.4em 0.5em 0.4em;box-sizing: border-box;padding-bottom: 0.4em;background-color: white;}#sk-container-id-10 div.sk-label label {font-family: monospace;font-weight: bold;display: inline-block;line-height: 1.2em;}#sk-container-id-10 div.sk-label-container {text-align: center;}#sk-container-id-10 div.sk-container {/* jupyter's `normalize.less` sets `[hidden] { display: none; }` but bootstrap.min.css set `[hidden] { display: none !important; }` so we also need the `!important` here to be able to override the default hidden behavior on the sphinx rendered scikit-learn.org. See: https://github.com/scikit-learn/scikit-learn/issues/21755 */display: inline-block !important;position: relative;}#sk-container-id-10 div.sk-text-repr-fallback {display: none;}</style><div id=\"sk-container-id-10\" class=\"sk-top-container\"><div class=\"sk-text-repr-fallback\"><pre>XGBClassifier(base_score=None, booster=None, callbacks=None,\n",
       "              colsample_bylevel=None, colsample_bynode=None,\n",
       "              colsample_bytree=None, device=None, early_stopping_rounds=None,\n",
       "              enable_categorical=False, eval_metric=None, feature_types=None,\n",
       "              gamma=None, grow_policy=None, importance_type=None,\n",
       "              interaction_constraints=None, learning_rate=None, max_bin=None,\n",
       "              max_cat_threshold=None, max_cat_to_onehot=None,\n",
       "              max_delta_step=None, max_depth=None, max_leaves=None,\n",
       "              min_child_weight=None, missing=nan, monotone_constraints=None,\n",
       "              multi_strategy=None, n_estimators=None, n_jobs=None,\n",
       "              num_parallel_tree=None, random_state=123, ...)</pre><b>In a Jupyter environment, please rerun this cell to show the HTML representation or trust the notebook. <br />On GitHub, the HTML representation is unable to render, please try loading this page with nbviewer.org.</b></div><div class=\"sk-container\" hidden><div class=\"sk-item\"><div class=\"sk-estimator sk-toggleable\"><input class=\"sk-toggleable__control sk-hidden--visually\" id=\"sk-estimator-id-10\" type=\"checkbox\" checked><label for=\"sk-estimator-id-10\" class=\"sk-toggleable__label sk-toggleable__label-arrow\">XGBClassifier</label><div class=\"sk-toggleable__content\"><pre>XGBClassifier(base_score=None, booster=None, callbacks=None,\n",
       "              colsample_bylevel=None, colsample_bynode=None,\n",
       "              colsample_bytree=None, device=None, early_stopping_rounds=None,\n",
       "              enable_categorical=False, eval_metric=None, feature_types=None,\n",
       "              gamma=None, grow_policy=None, importance_type=None,\n",
       "              interaction_constraints=None, learning_rate=None, max_bin=None,\n",
       "              max_cat_threshold=None, max_cat_to_onehot=None,\n",
       "              max_delta_step=None, max_depth=None, max_leaves=None,\n",
       "              min_child_weight=None, missing=nan, monotone_constraints=None,\n",
       "              multi_strategy=None, n_estimators=None, n_jobs=None,\n",
       "              num_parallel_tree=None, random_state=123, ...)</pre></div></div></div></div></div>"
      ],
      "text/plain": [
       "XGBClassifier(base_score=None, booster=None, callbacks=None,\n",
       "              colsample_bylevel=None, colsample_bynode=None,\n",
       "              colsample_bytree=None, device=None, early_stopping_rounds=None,\n",
       "              enable_categorical=False, eval_metric=None, feature_types=None,\n",
       "              gamma=None, grow_policy=None, importance_type=None,\n",
       "              interaction_constraints=None, learning_rate=None, max_bin=None,\n",
       "              max_cat_threshold=None, max_cat_to_onehot=None,\n",
       "              max_delta_step=None, max_depth=None, max_leaves=None,\n",
       "              min_child_weight=None, missing=nan, monotone_constraints=None,\n",
       "              multi_strategy=None, n_estimators=None, n_jobs=None,\n",
       "              num_parallel_tree=None, random_state=123, ...)"
      ]
     },
     "execution_count": 264,
     "metadata": {},
     "output_type": "execute_result"
    }
   ],
   "source": [
    "#5\n",
    "from xgboost import XGBClassifier\n",
    "\n",
    "\n",
    "model_xgb = XGBClassifier(random_state=123)\n",
    "\n",
    "\n",
    "model_xgb.fit(X_train, y_train)\n",
    "\n"
   ]
  },
  {
   "cell_type": "code",
   "execution_count": 265,
   "id": "19d9a454-9e0d-4edc-9876-ba98c7f31a0c",
   "metadata": {
    "tags": []
   },
   "outputs": [
    {
     "name": "stdout",
     "output_type": "stream",
     "text": [
      "Accuracy: 0.55\n",
      "              precision    recall  f1-score   support\n",
      "\n",
      "           0       0.84      0.53      0.65     32504\n",
      "           1       0.27      0.63      0.38      8948\n",
      "\n",
      "    accuracy                           0.55     41452\n",
      "   macro avg       0.55      0.58      0.51     41452\n",
      "weighted avg       0.71      0.55      0.59     41452\n",
      "\n",
      "[[17157 15347]\n",
      " [ 3323  5625]]\n"
     ]
    }
   ],
   "source": [
    "from sklearn.metrics import accuracy_score, classification_report, confusion_matrix\n",
    "\n",
    "y_pred = model_xgb.predict(X_test)\n",
    "\n",
    "accuracy = accuracy_score(y_test, y_pred)\n",
    "print(f'Accuracy: {accuracy:.2f}')\n",
    "\n",
    "print(classification_report(y_test, y_pred))\n",
    "\n",
    "print(confusion_matrix(y_test, y_pred))\n"
   ]
  },
  {
   "cell_type": "code",
   "execution_count": 267,
   "id": "1ad84c73-1697-4b54-a9d2-07a7a6582600",
   "metadata": {
    "tags": []
   },
   "outputs": [
    {
     "name": "stdout",
     "output_type": "stream",
     "text": [
      "0.62863209655789\n"
     ]
    }
   ],
   "source": [
    "\n",
    "true_positives = 5625\n",
    "false_negatives = 3323\n",
    "recall = true_positives / (true_positives + false_negatives)\n",
    "print(recall)\n"
   ]
  },
  {
   "cell_type": "code",
   "execution_count": 268,
   "id": "2a0743a3-34ca-400b-ad11-780cb4466720",
   "metadata": {
    "tags": []
   },
   "outputs": [
    {
     "name": "stdout",
     "output_type": "stream",
     "text": [
      "Confusion Matrix:\n",
      "[[17157 15347]\n",
      " [ 3323  5625]]\n",
      "Classification Report:\n",
      "              precision    recall  f1-score   support\n",
      "\n",
      "           0       0.84      0.53      0.65     32504\n",
      "           1       0.27      0.63      0.38      8948\n",
      "\n",
      "    accuracy                           0.55     41452\n",
      "   macro avg       0.55      0.58      0.51     41452\n",
      "weighted avg       0.71      0.55      0.59     41452\n",
      "\n"
     ]
    }
   ],
   "source": [
    "#6\n",
    "from sklearn.metrics import classification_report, confusion_matrix\n",
    "\n",
    "\n",
    "y_pred = model_xgb.predict(X_test)\n",
    "\n",
    "\n",
    "cm = confusion_matrix(y_test, y_pred)\n",
    "print(\"Confusion Matrix:\")\n",
    "print(cm)\n",
    "\n",
    "\n",
    "cr = classification_report(y_test, y_pred)\n",
    "print(\"Classification Report:\")\n",
    "print(cr)\n",
    "\n"
   ]
  },
  {
   "cell_type": "code",
   "execution_count": 269,
   "id": "99e34ff3-476e-49d3-b3e9-f1de23035f58",
   "metadata": {
    "tags": []
   },
   "outputs": [
    {
     "name": "stdout",
     "output_type": "stream",
     "text": [
      "Base-case cost without a model: $8619200\n",
      "Total cost using the model: $7694180\n"
     ]
    }
   ],
   "source": [
    "#7\n",
    "base_case_cost = (y_test == 0).sum() * 100 + (y_test == 1).sum() * 600\n",
    "\n",
    "TN, FP, FN, TP = confusion_matrix(y_test, y_pred).ravel()\n",
    "\n",
    "model_case_cost = TN * 100 + FN * 600 + TP * 190 + FP * 190\n",
    "\n",
    "print(f\"Base-case cost without a model: ${base_case_cost}\")\n",
    "print(f\"Total cost using the model: ${model_case_cost}\")\n",
    "\n"
   ]
  },
  {
   "cell_type": "code",
   "execution_count": 271,
   "id": "a8f58430-8da3-4369-929c-c19363e225e6",
   "metadata": {
    "tags": []
   },
   "outputs": [
    {
     "name": "stdout",
     "output_type": "stream",
     "text": [
      "The lowest total cost of $7612170 is achieved with a threshold of 0.41\n"
     ]
    }
   ],
   "source": [
    "#8&9\n",
    "import numpy as np\n",
    "from sklearn.metrics import confusion_matrix\n",
    "\n",
    "y_proba = model_xgb.predict_proba(X_test)[:, 1]  # Get the probability predictions for the positive class\n",
    "\n",
    "def calculate_cost(TP, FP, FN, TN):\n",
    "    return (TP * 190) + (FP * 190) + (FN * 600) + (TN * 100)\n",
    "\n",
    "min_cost = float('inf')  \n",
    "best_threshold = None  \n",
    "\n",
    "for threshold in np.linspace(0.01, 0.99, 99):\n",
    "    y_pred_threshold = (y_proba >= threshold).astype(int)\n",
    "    \n",
    "    TN, FP, FN, TP = confusion_matrix(y_test, y_pred_threshold).ravel()\n",
    "    \n",
    "    current_cost = calculate_cost(TP, FP, FN, TN)\n",
    "    \n",
    "    if current_cost < min_cost:\n",
    "        min_cost = current_cost\n",
    "        best_threshold = threshold\n",
    "\n",
    "print(f\"The lowest total cost of ${min_cost} is achieved with a threshold of {best_threshold:.2f}\")\n"
   ]
  },
  {
   "cell_type": "code",
   "execution_count": null,
   "id": "9f402a82-d1a4-46a1-b976-89e1417a019f",
   "metadata": {},
   "outputs": [],
   "source": []
  },
  {
   "cell_type": "code",
   "execution_count": null,
   "id": "c6f1d2cd-97e2-4fd6-8266-f38336a00d29",
   "metadata": {},
   "outputs": [],
   "source": []
  },
  {
   "cell_type": "code",
   "execution_count": null,
   "id": "850852c6-44f4-4f9e-a3ea-631d3476a352",
   "metadata": {},
   "outputs": [],
   "source": []
  },
  {
   "cell_type": "code",
   "execution_count": null,
   "id": "fcce71a4-7df2-4e0f-b08a-0dafec0fb2e4",
   "metadata": {},
   "outputs": [],
   "source": []
  }
 ],
 "metadata": {
  "kernelspec": {
   "display_name": "Python 3 (ipykernel)",
   "language": "python",
   "name": "python3"
  },
  "language_info": {
   "codemirror_mode": {
    "name": "ipython",
    "version": 3
   },
   "file_extension": ".py",
   "mimetype": "text/x-python",
   "name": "python",
   "nbconvert_exporter": "python",
   "pygments_lexer": "ipython3",
   "version": "3.10.11"
  }
 },
 "nbformat": 4,
 "nbformat_minor": 5
}
